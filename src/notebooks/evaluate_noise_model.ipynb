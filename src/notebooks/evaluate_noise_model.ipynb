{
 "cells": [
  {
   "cell_type": "code",
   "execution_count": null,
   "metadata": {},
   "outputs": [],
   "source": [
    "import warnings\n",
    "warnings.filterwarnings('ignore')\n",
    "import os\n",
    "import urllib\n",
    "import zipfile\n",
    "import seaborn as sns\n",
    "\n",
    "import torch\n",
    "dtype = torch.float\n",
    "device = torch.device(\"cuda:0\") \n",
    "from torch.distributions import normal\n",
    "import matplotlib.pyplot as plt, numpy as np, pickle\n",
    "from scipy.stats import norm\n",
    "from tifffile import imread\n",
    "import sys\n",
    "sys.path.append('/home/ashesh.ashesh/code/PPN2V')\n",
    "from src.ppn2v.pn2v import *\n",
    "import src.ppn2v.pn2v.gaussianMixtureNoiseModel\n",
    "import src.ppn2v.pn2v.histNoiseModel\n",
    "import src.ppn2v.pn2v.prediction\n",
    "from src.ppn2v.pn2v.utils import *\n",
    "from src.scripts.train_n2v import get_bestmodelname, load_data\n",
    "from disentangle.core.psnr import RangeInvariantPsnr\n",
    "\n"
   ]
  },
  {
   "cell_type": "code",
   "execution_count": null,
   "metadata": {},
   "outputs": [],
   "source": [
    "!ls /home/ashesh.ashesh/training/noise_model/2307/37/"
   ]
  },
  {
   "cell_type": "code",
   "execution_count": null,
   "metadata": {},
   "outputs": [],
   "source": [
    "import glob\n",
    "def gmm_model(model_directory):\n",
    "    for fpath in glob.glob(f'{model_directory}/*'):\n",
    "        if 'GMMNoiseModel' in fpath:\n",
    "            return fpath\n",
    "            "
   ]
  },
  {
   "cell_type": "code",
   "execution_count": null,
   "metadata": {},
   "outputs": [],
   "source": [
    "model_directory = '/home/ashesh.ashesh/training/noise_model/2307/25'\n",
    "model_fpath = gmm_model(model_directory)\n",
    "\n",
    "data_dir = '/group/jug/ashesh/data/ventura_gigascience/'\n",
    "# data_dir = '/group/jug/ashesh/data/BSD68_reproducibility_data/val/'\n",
    "data_dir = data_dir[:-1] if '/' == data_dir[-1] else data_dir\n",
    "\n",
    "dset = 'ventura_gigascience'\n",
    "low_snr_filename = 'actin-60x-noise2-lowsnr.tif'\n",
    "high_snr_filename = 'actin-60x-noise2-highsnr.tif'\n",
    "\n",
    "# low_snr_filename =  'DCNN400_validation_gaussian25.npy'\n",
    "# high_snr_filename = 'DCNN400_validation_gaussian25.npy'\n",
    "\n",
    "pred_actin = np.load('/home/ashesh.ashesh/PhDNotebooks/disentangle/NoiseModel/split_predictions_ch1.npy')\n",
    "pred_mito = np.load('/home/ashesh.ashesh/PhDNotebooks/disentangle/NoiseModel/split_predictions_ch2.npy')\n",
    "\n",
    "datatype = low_snr_filename.split('-')[0]\n",
    "if datatype == 'actin':\n",
    "    pred_data = pred_actin\n",
    "elif datatype == 'mito':\n",
    "    pred_data = pred_mito\n",
    "    \n",
    "low_snr_data = load_data(os.path.join(data_dir, low_snr_filename))\n",
    "high_snr_data = load_data(os.path.join(data_dir, high_snr_filename))\n"
   ]
  },
  {
   "cell_type": "code",
   "execution_count": null,
   "metadata": {},
   "outputs": [],
   "source": [
    "!ls -lhrt $model_fpath"
   ]
  },
  {
   "cell_type": "code",
   "execution_count": null,
   "metadata": {},
   "outputs": [],
   "source": [
    "from disentangle.nets.gmm_noise_model import GaussianMixtureNoiseModel\n",
    "model = GaussianMixtureNoiseModel(params=np.load(model_fpath))\n"
   ]
  },
  {
   "cell_type": "code",
   "execution_count": null,
   "metadata": {},
   "outputs": [],
   "source": [
    "from tqdm import tqdm \n",
    "results=[]\n",
    "meanRes=[]\n",
    "resultImgs=[]\n",
    "inputImgs=[]\n",
    "dataTest = pred_data#low_snr_data\n",
    "\n",
    "for index in tqdm(range(dataTest.shape[0])):\n",
    "\n",
    "    im=dataTest[index]\n",
    "    # We are using tiling to fit the image into memory\n",
    "    # If you get an error try a smaller patch size (ps)\n",
    "    means = src.ppn2v.pn2v.prediction.tiledPredict(im, net, ps=256, overlap=48,\n",
    "                                            device=device, noiseModel=None)\n",
    "    resultImgs.append(means)\n",
    "    inputImgs.append(im)\n",
    "    \n",
    "prediction = np.concatenate([x[None] for x in resultImgs],axis=0).astype(np.int32)"
   ]
  },
  {
   "cell_type": "code",
   "execution_count": null,
   "metadata": {},
   "outputs": [],
   "source": [
    "_,ax = plt.subplots(figsize=(18,6),ncols=3)\n",
    "img_idx = 0 #np.random.randint(0,high=len(inputImgs))\n",
    "hs = 600\n",
    "ws = 600\n",
    "hN = 800\n",
    "wN = 800\n",
    "ax[0].imshow(inputImgs[img_idx][hs:hs+hN, ws:ws+wN])\n",
    "ax[1].imshow(resultImgs[img_idx][hs:hs+hN, ws:ws+wN])\n",
    "ax[2].imshow(high_snr_data[img_idx][hs:hs+hN, ws:ws+wN])"
   ]
  },
  {
   "cell_type": "code",
   "execution_count": null,
   "metadata": {},
   "outputs": [],
   "source": [
    "_ = plt.hist(inputImgs[img_idx].reshape(-1,),bins=50, color='red')\n",
    "_ = plt.hist(resultImgs[img_idx].reshape(-1,),bins=50, color='blue')"
   ]
  },
  {
   "cell_type": "code",
   "execution_count": null,
   "metadata": {},
   "outputs": [],
   "source": [
    "np.save(f'/home/ashesh.ashesh/PhDNotebooks/disentangle/NoiseModel/split_predictions_denoised_{datatype}.npy', np.array(resultImgs))"
   ]
  },
  {
   "cell_type": "code",
   "execution_count": null,
   "metadata": {},
   "outputs": [],
   "source": [
    "psnrs = RangeInvariantPsnr(high_snr_data.astype(np.int32), prediction)\n",
    "print(f'{torch.mean(psnrs).item():.1f}','+-', f'{torch.std(psnrs).item():.1f}')"
   ]
  },
  {
   "cell_type": "code",
   "execution_count": null,
   "metadata": {},
   "outputs": [],
   "source": []
  }
 ],
 "metadata": {
  "kernelspec": {
   "display_name": "Disentangle",
   "language": "python",
   "name": "python3"
  },
  "language_info": {
   "codemirror_mode": {
    "name": "ipython",
    "version": 3
   },
   "file_extension": ".py",
   "mimetype": "text/x-python",
   "name": "python",
   "nbconvert_exporter": "python",
   "pygments_lexer": "ipython3",
   "version": "3.9.16"
  },
  "vscode": {
   "interpreter": {
    "hash": "d1b857d1bba0930ca022eebf5eaf82be7e85c90a51a5292e3d1e5b098bb58d4a"
   }
  }
 },
 "nbformat": 4,
 "nbformat_minor": 2
}
