{
 "cells": [
  {
   "cell_type": "code",
   "execution_count": null,
   "metadata": {},
   "outputs": [],
   "source": [
    "import warnings\n",
    "warnings.filterwarnings('ignore')\n",
    "import os\n",
    "import urllib\n",
    "import zipfile\n",
    "import seaborn as sns\n",
    "\n",
    "import torch\n",
    "dtype = torch.float\n",
    "device = torch.device(\"cuda:0\") \n",
    "from torch.distributions import normal\n",
    "import matplotlib.pyplot as plt, numpy as np, pickle\n",
    "from scipy.stats import norm\n",
    "from tifffile import imread\n",
    "import sys\n",
    "sys.path.append('/home/ashesh.ashesh/code/PPN2V')\n",
    "from src.ppn2v.pn2v import *\n",
    "import src.ppn2v.pn2v.gaussianMixtureNoiseModel\n",
    "import src.ppn2v.pn2v.histNoiseModel\n",
    "import src.ppn2v.pn2v.prediction\n",
    "from src.ppn2v.pn2v.utils import *\n",
    "from scripts.train_n2v import get_bestmodelname\n",
    "from disentangle.core.psnr import RangeInvariantPsnr\n",
    "\n"
   ]
  },
  {
   "cell_type": "code",
   "execution_count": null,
   "metadata": {},
   "outputs": [],
   "source": [
    "model_directory = '/home/ashesh.ashesh/training/N2V/2307/9/'\n",
    "data_dir = '/group/jug/ashesh/data/ventura_gigascience/'\n",
    "data_dir = data_dir[:-1] if '/' == data_dir[-1] else data_dir\n",
    "\n",
    "dset = 'ventura_gigascience'\n",
    "low_snr_filename =  'actin-60x-noise2-lowsnr.tif'\n",
    "high_snr_filename = 'actin-60x-noise2-highsnr.tif'\n",
    "\n",
    "low_snr_data = imread(os.path.join(data_dir, low_snr_filename))\n",
    "high_snr_data = imread(os.path.join(data_dir, high_snr_filename))\n"
   ]
  },
  {
   "cell_type": "code",
   "execution_count": null,
   "metadata": {},
   "outputs": [],
   "source": [
    "os.path.basename(data_dir)"
   ]
  },
  {
   "cell_type": "code",
   "execution_count": null,
   "metadata": {},
   "outputs": [],
   "source": [
    "net_fpath = os.path.join(model_directory, get_bestmodelname(data_dir, low_snr_filename))\n",
    "net = torch.load(net_fpath)"
   ]
  },
  {
   "cell_type": "code",
   "execution_count": null,
   "metadata": {},
   "outputs": [],
   "source": [
    "from tqdm import tqdm \n",
    "results=[]\n",
    "meanRes=[]\n",
    "resultImgs=[]\n",
    "inputImgs=[]\n",
    "dataTest = low_snr_data\n",
    "\n",
    "for index in tqdm(range(dataTest.shape[0])):\n",
    "\n",
    "    im=dataTest[index]\n",
    "    # We are using tiling to fit the image into memory\n",
    "    # If you get an error try a smaller patch size (ps)\n",
    "    means = src.ppn2v.pn2v.prediction.tiledPredict(im, net, ps=256, overlap=48,\n",
    "                                            device=device, noiseModel=None)\n",
    "    resultImgs.append(means)\n",
    "    inputImgs.append(im)\n",
    "    \n",
    "prediction = np.concatenate([x[None] for x in resultImgs],axis=0).astype(np.int32)"
   ]
  },
  {
   "cell_type": "code",
   "execution_count": null,
   "metadata": {},
   "outputs": [],
   "source": []
  },
  {
   "cell_type": "code",
   "execution_count": null,
   "metadata": {},
   "outputs": [],
   "source": [
    "_,ax = plt.subplots(figsize=(12,4),ncols=3)\n",
    "img_idx = np.random.randint(0,high=len(inputImgs))\n",
    "hs = 0\n",
    "ws = 0\n",
    "hN = 1500\n",
    "wN = 1500\n",
    "ax[0].imshow(inputImgs[img_idx][hs:hs+hN, ws:ws+wN])\n",
    "ax[1].imshow(resultImgs[img_idx][hs:hs+hN, ws:ws+wN])\n",
    "ax[2].imshow(high_snr_data[img_idx][hs:hs+hN, ws:ws+wN])"
   ]
  },
  {
   "cell_type": "code",
   "execution_count": null,
   "metadata": {},
   "outputs": [],
   "source": [
    "psnrs = RangeInvariantPsnr(high_snr_data.astype(np.int32), prediction)\n",
    "print(f'{torch.mean(psnrs).item():.1f}','+-', f'{torch.std(psnrs).item():.1f}')"
   ]
  }
 ],
 "metadata": {
  "kernelspec": {
   "display_name": "Disentangle",
   "language": "python",
   "name": "python3"
  },
  "language_info": {
   "codemirror_mode": {
    "name": "ipython",
    "version": 3
   },
   "file_extension": ".py",
   "mimetype": "text/x-python",
   "name": "python",
   "nbconvert_exporter": "python",
   "pygments_lexer": "ipython3",
   "version": "3.9.16"
  },
  "vscode": {
   "interpreter": {
    "hash": "d1b857d1bba0930ca022eebf5eaf82be7e85c90a51a5292e3d1e5b098bb58d4a"
   }
  }
 },
 "nbformat": 4,
 "nbformat_minor": 2
}
