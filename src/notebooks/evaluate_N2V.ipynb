{
 "cells": [
  {
   "cell_type": "code",
   "execution_count": null,
   "metadata": {},
   "outputs": [],
   "source": [
    "import warnings\n",
    "warnings.filterwarnings('ignore')\n",
    "import os\n",
    "import urllib\n",
    "import zipfile\n",
    "import seaborn as sns\n",
    "\n",
    "import torch\n",
    "dtype = torch.float\n",
    "device = torch.device(\"cuda:0\") \n",
    "from torch.distributions import normal\n",
    "import matplotlib.pyplot as plt, numpy as np, pickle\n",
    "from scipy.stats import norm\n",
    "from tifffile import imread\n",
    "import sys\n",
    "sys.path.append('/home/ashesh.ashesh/code/PPN2V')\n",
    "from src.ppn2v.pn2v import *\n",
    "import src.ppn2v.pn2v.gaussianMixtureNoiseModel\n",
    "import src.ppn2v.pn2v.histNoiseModel\n",
    "import src.ppn2v.pn2v.prediction\n",
    "from src.ppn2v.pn2v.utils import *\n",
    "from src.scripts.train_n2v import get_bestmodelname, load_data\n",
    "from disentangle.core.psnr import RangeInvariantPsnr\n",
    "\n"
   ]
  },
  {
   "cell_type": "code",
   "execution_count": null,
   "metadata": {},
   "outputs": [],
   "source": [
    "ls /home/ashesh.ashesh/training/N2V/2307/17/"
   ]
  },
  {
   "cell_type": "code",
   "execution_count": null,
   "metadata": {},
   "outputs": [],
   "source": [
    "!ls /home/ashesh.ashesh/training/N2V/2307/20/"
   ]
  },
  {
   "cell_type": "code",
   "execution_count": null,
   "metadata": {},
   "outputs": [],
   "source": [
    "from src.ppn2v.experiment_saving import load_config\n",
    "\n",
    "modelpath = '/home/ashesh.ashesh/training/N2V/2401/5/best_ventura_gigascience-actin-n2v.net'\n",
    "n2v_config = load_config(os.path.dirname(modelpath))\n",
    "# data_dir = '/group/jug/ashesh/data/BSD68_reproducibility_data/test/'\n",
    "data_dir = '/group/jug/ashesh/data/ventura_gigascience/'\n",
    "data_dir = data_dir[:-1] if '/' == data_dir[-1] else data_dir\n",
    "\n",
    "# low_snr_filename =  'bsd68_gaussian25.npy'\n",
    "# high_snr_filename = 'bsd68_groundtruth.npy'\n",
    "low_snr_filename = None #'actin-60x-noise2-highsnr.tif'\n",
    "high_snr_filename = 'actin-60x-noise2-highsnr.tif'\n",
    "high_snr_data = load_data(os.path.join(data_dir, high_snr_filename))\n",
    "if n2v_config.get('add_gaussian_noise_std', 0.0) > 0.0:\n",
    "    print('Adding gaussian noise for N2V model', n2v_config['add_gaussian_noise_std'])\n",
    "    low_snr_data = high_snr_data + np.random.normal(0, n2v_config['add_gaussian_noise_std'], high_snr_data.shape)\n",
    "    assert low_snr_filename is None\n",
    "else:\n",
    "    low_snr_data = load_data(os.path.join(data_dir, low_snr_filename))"
   ]
  },
  {
   "cell_type": "code",
   "execution_count": null,
   "metadata": {},
   "outputs": [],
   "source": [
    "import numpy as np\n"
   ]
  },
  {
   "cell_type": "code",
   "execution_count": null,
   "metadata": {},
   "outputs": [],
   "source": [
    "net = torch.load(modelpath)"
   ]
  },
  {
   "cell_type": "code",
   "execution_count": null,
   "metadata": {},
   "outputs": [],
   "source": [
    "from tqdm import tqdm \n",
    "results=[]\n",
    "meanRes=[]\n",
    "resultImgs=[]\n",
    "inputImgs=[]\n",
    "dataTest = low_snr_data\n",
    "\n",
    "for index in tqdm(range(dataTest.shape[0])):\n",
    "\n",
    "    im=dataTest[index]\n",
    "    # We are using tiling to fit the image into memory\n",
    "    # If you get an error try a smaller patch size (ps)\n",
    "    means = src.ppn2v.pn2v.prediction.tiledPredict(im, net, ps=256, overlap=48,\n",
    "                                            device=device, noiseModel=None)\n",
    "    resultImgs.append(means)\n",
    "    inputImgs.append(im)\n",
    "    "
   ]
  },
  {
   "cell_type": "code",
   "execution_count": null,
   "metadata": {},
   "outputs": [],
   "source": [
    "resultImgs[2].min()"
   ]
  },
  {
   "cell_type": "code",
   "execution_count": null,
   "metadata": {},
   "outputs": [],
   "source": []
  },
  {
   "cell_type": "code",
   "execution_count": null,
   "metadata": {},
   "outputs": [],
   "source": [
    "_,ax = plt.subplots(figsize=(18,6),ncols=3)\n",
    "img_idx = np.random.randint(0,high=len(inputImgs))\n",
    "hs = 200\n",
    "ws = 200\n",
    "hN = 600\n",
    "wN = 600\n",
    "ax[0].imshow(inputImgs[img_idx][hs:hs+hN, ws:ws+wN])\n",
    "ax[1].imshow(resultImgs[img_idx][hs:hs+hN, ws:ws+wN])\n",
    "ax[2].imshow(high_snr_data[img_idx][hs:hs+hN, ws:ws+wN])"
   ]
  },
  {
   "cell_type": "code",
   "execution_count": null,
   "metadata": {},
   "outputs": [],
   "source": [
    "from skimage.io import imread, imsave\n",
    "\n",
    "pred = np.array(resultImgs)\n",
    "fpath = os.path.join('/home/ashesh.ashesh/code/DivNoising/examples/Convallaria/pseudo_gt/',low_snr_filename) \n",
    "imsave(fpath, pred,plugin='tifffile')\n",
    "print(fpath)"
   ]
  },
  {
   "cell_type": "code",
   "execution_count": null,
   "metadata": {},
   "outputs": [],
   "source": [
    "_ = plt.hist(inputImgs[img_idx].reshape(-1,),bins=50, color='red')\n",
    "_ = plt.hist(resultImgs[img_idx].reshape(-1,),bins=50, color='blue')"
   ]
  }
 ],
 "metadata": {
  "kernelspec": {
   "display_name": "usplit_vdi",
   "language": "python",
   "name": "usplit_vdi"
  },
  "language_info": {
   "codemirror_mode": {
    "name": "ipython",
    "version": 3
   },
   "file_extension": ".py",
   "mimetype": "text/x-python",
   "name": "python",
   "nbconvert_exporter": "python",
   "pygments_lexer": "ipython3",
   "version": "3.9.18"
  },
  "vscode": {
   "interpreter": {
    "hash": "d1b857d1bba0930ca022eebf5eaf82be7e85c90a51a5292e3d1e5b098bb58d4a"
   }
  }
 },
 "nbformat": 4,
 "nbformat_minor": 2
}
